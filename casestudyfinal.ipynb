{
 "cells": [
  {
   "cell_type": "code",
   "execution_count": 1,
   "metadata": {},
   "outputs": [
    {
     "name": "stdout",
     "output_type": "stream",
     "text": [
      "Populating the interactive namespace from numpy and matplotlib\n"
     ]
    }
   ],
   "source": [
    "%pylab inline\n",
    "import pandas as pd\n",
    "import numpy as np\n",
    "from matplotlib import pyplot as plt\n",
    "from datetime import datetime\n",
    "from sklearn.linear_model import LinearRegression\n",
    "import warnings\n",
    "warnings.filterwarnings('ignore')\n",
    "train = pd.read_csv('data/Train.csv')"
   ]
  },
  {
   "cell_type": "code",
   "execution_count": 6,
   "metadata": {},
   "outputs": [
    {
     "data": {
      "text/html": [
       "<div>\n",
       "<style scoped>\n",
       "    .dataframe tbody tr th:only-of-type {\n",
       "        vertical-align: middle;\n",
       "    }\n",
       "\n",
       "    .dataframe tbody tr th {\n",
       "        vertical-align: top;\n",
       "    }\n",
       "\n",
       "    .dataframe thead th {\n",
       "        text-align: right;\n",
       "    }\n",
       "</style>\n",
       "<table border=\"1\" class=\"dataframe\">\n",
       "  <thead>\n",
       "    <tr style=\"text-align: right;\">\n",
       "      <th></th>\n",
       "      <th>ModelID</th>\n",
       "      <th>saledate</th>\n",
       "      <th>state</th>\n",
       "      <th>MachineHoursCurrentMeter</th>\n",
       "    </tr>\n",
       "  </thead>\n",
       "  <tbody>\n",
       "    <tr>\n",
       "      <th>0</th>\n",
       "      <td>3157</td>\n",
       "      <td>11/16/2006 0:00</td>\n",
       "      <td>Alabama</td>\n",
       "      <td>68.0</td>\n",
       "    </tr>\n",
       "    <tr>\n",
       "      <th>1</th>\n",
       "      <td>77</td>\n",
       "      <td>3/26/2004 0:00</td>\n",
       "      <td>North Carolina</td>\n",
       "      <td>4640.0</td>\n",
       "    </tr>\n",
       "    <tr>\n",
       "      <th>2</th>\n",
       "      <td>7009</td>\n",
       "      <td>2/26/2004 0:00</td>\n",
       "      <td>New York</td>\n",
       "      <td>2838.0</td>\n",
       "    </tr>\n",
       "    <tr>\n",
       "      <th>3</th>\n",
       "      <td>332</td>\n",
       "      <td>5/19/2011 0:00</td>\n",
       "      <td>Texas</td>\n",
       "      <td>3486.0</td>\n",
       "    </tr>\n",
       "    <tr>\n",
       "      <th>4</th>\n",
       "      <td>17311</td>\n",
       "      <td>7/23/2009 0:00</td>\n",
       "      <td>New York</td>\n",
       "      <td>722.0</td>\n",
       "    </tr>\n",
       "  </tbody>\n",
       "</table>\n",
       "</div>"
      ],
      "text/plain": [
       "   ModelID         saledate           state  MachineHoursCurrentMeter\n",
       "0     3157  11/16/2006 0:00         Alabama                      68.0\n",
       "1       77   3/26/2004 0:00  North Carolina                    4640.0\n",
       "2     7009   2/26/2004 0:00        New York                    2838.0\n",
       "3      332   5/19/2011 0:00           Texas                    3486.0\n",
       "4    17311   7/23/2009 0:00        New York                     722.0"
      ]
     },
     "execution_count": 6,
     "metadata": {},
     "output_type": "execute_result"
    }
   ],
   "source": [
    "train[['ModelID','saledate','state','MachineHoursCurrentMeter']].head()"
   ]
  },
  {
   "cell_type": "code",
   "execution_count": 5,
   "metadata": {},
   "outputs": [],
   "source": [
    "train['saleyear']=[datetime.strptime(row, '%m/%d/%Y %H:%M') for row in train['saledate']]\n",
    "train['saleyear'] = train['saleyear'].dt.year\n",
    "train = train[['ModelID', 'saleyear', 'SalePrice']]\n",
    "train_sorted = train.sort_values(['ModelID','saleyear'])\n",
    "train_sorted_collapsed = train_sorted.groupby(['ModelID','saleyear']).median().reset_index()"
   ]
  },
  {
   "cell_type": "code",
   "execution_count": 6,
   "metadata": {},
   "outputs": [],
   "source": [
    "d = {}\n",
    "for i in range(len(train_sorted_collapsed)):\n",
    "    if train_sorted_collapsed['ModelID'][i] in d:\n",
    "        d[train_sorted_collapsed['ModelID'][i]].append((train_sorted_collapsed['saleyear'][i],train_sorted_collapsed['SalePrice'][i]))\n",
    "    else:\n",
    "        d[train_sorted_collapsed['ModelID'][i]] = [(train_sorted_collapsed['saleyear'][i],train_sorted_collapsed['SalePrice'][i])]"
   ]
  },
  {
   "cell_type": "code",
   "execution_count": 7,
   "metadata": {
    "scrolled": true
   },
   "outputs": [],
   "source": [
    "test = pd.read_csv('data/Test.csv')\n",
    "test['saleyear']=[datetime.strptime(row, '%m/%d/%Y %H:%M') for row in test['saledate']]\n",
    "test['saleyear'] = test['saleyear'].dt.year\n",
    "test = test[['SalesID', 'ModelID', 'saleyear']]\n",
    "test['SalePrice'] = 0"
   ]
  },
  {
   "cell_type": "code",
   "execution_count": 8,
   "metadata": {
    "scrolled": true
   },
   "outputs": [],
   "source": [
    "for i in range(len(test)):\n",
    "    if test.iloc[i][1] not in d: \n",
    "        test['SalePrice'][i] = 24000\n",
    "    else:\n",
    "        cyear, cprice, yeardiff = 2000, 0, 50\n",
    "        for j in d[test.iloc[i][1]]:\n",
    "            if np.abs(test.iloc[i][2]-j[0]) < cyear:\n",
    "                cyear, cprice, yeardiff = j[0], j[1], test.iloc[i][2]-j[0]\n",
    "        test['SalePrice'][i] = cprice * np.exp(0.04*yeardiff)"
   ]
  },
  {
   "cell_type": "code",
   "execution_count": 9,
   "metadata": {},
   "outputs": [],
   "source": [
    "ids = pd.Series(test['SalesID'])\n",
    "price_predict = pd.Series(test['SalePrice'])"
   ]
  },
  {
   "cell_type": "code",
   "execution_count": 134,
   "metadata": {},
   "outputs": [],
   "source": [
    "pd.concat([ids, price_predict], axis=1).to_csv('data/predictions.csv', index=False, header=['SalesID','SalePrice'])"
   ]
  }
 ],
 "metadata": {
  "kernelspec": {
   "display_name": "Python 3",
   "language": "python",
   "name": "python3"
  },
  "language_info": {
   "codemirror_mode": {
    "name": "ipython",
    "version": 3
   },
   "file_extension": ".py",
   "mimetype": "text/x-python",
   "name": "python",
   "nbconvert_exporter": "python",
   "pygments_lexer": "ipython3",
   "version": "3.7.0"
  }
 },
 "nbformat": 4,
 "nbformat_minor": 2
}
